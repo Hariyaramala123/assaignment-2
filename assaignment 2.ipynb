{
 "cells": [
  {
   "cell_type": "markdown",
   "id": "c32e61f2",
   "metadata": {},
   "source": [
    "1.What are the two values of the Boolean data type? How do you write them?\n",
    "\n",
    "boolen type of two values are 1)True 2) False\n",
    " True = 1\n",
    " False = 0"
   ]
  },
  {
   "cell_type": "markdown",
   "id": "a77ab16b",
   "metadata": {},
   "source": [
    "2.What are the three different types of Boolean operators?\n",
    "\n",
    "The AND operator (&& or “and”)\n",
    "The OR operator (|| or “or”)\n",
    "The NOT operator (not)"
   ]
  },
  {
   "cell_type": "markdown",
   "id": "9add6a71",
   "metadata": {},
   "source": [
    "3. Make a list of each Boolean operators  truth tables (i.e. every possible combination of Boolean\n",
    "values for the operator and what it evaluate ).\n",
    "And operator\n",
    "truth table for this AND statement looks like this:\n",
    "\n",
    "A\tB\tresult\n",
    "1\t1\t1\n",
    "1\t0\t0\n",
    "0\t1\t0\n",
    "0\t0\t0\n",
    "\n",
    "or operator A or B\n",
    "\n",
    "Truth table:\n",
    "\n",
    "A\tB\tC\n",
    "1\t1\t1\n",
    "1\t0\t1\n",
    "0\t1\t1\n",
    "0\t0\t0\n",
    " \t \t \n",
    "If: (A or B) and C\n",
    "A\tB\tC\tA OR B\tD\n",
    "1\t1\t1\t1\t1\n",
    "1\t1\t0\t1\t0\n",
    "1\t0\t1\t1\t1\n",
    "1\t0\t0\t1\t0\n",
    "0\t1\t1\t1\t1\n",
    "0\t1\t0\t1\t0\n",
    "0\t0\t1\t0\t0\n",
    "0\t0\t0\t0\t0"
   ]
  },
  {
   "cell_type": "markdown",
   "id": "b4a21cd9",
   "metadata": {},
   "source": [
    "4. What are the values of the following expressions?\n",
    "(5>4) and (3 == 5)  \n",
    "not (5>4)\n",
    "(5>4) or (3 == 5)\n",
    "not ((5>4) or (3 == 5))\n",
    "(True and True) and (True == False)\n",
    "(not False) or (not True) \n",
    "these are all python logical operators(and,or,not):\n",
    "these are all python comparison operators (>,<,==)    "
   ]
  },
  {
   "cell_type": "markdown",
   "id": "5589d4bf",
   "metadata": {},
   "source": [
    "5. What are the six comparison operators?\n",
    "\n",
    "Operator   Name           Example\n",
    "==         equal           x == y\n",
    "!=       Not equal        x != y\n",
    ">      Greater than       x > y\n",
    "<       Less than         x < y\n",
    ">=   Greater than or equal to  x >= y\n",
    "<=    Less than or equal to    x <= y"
   ]
  },
  {
   "cell_type": "markdown",
   "id": "d0344b98",
   "metadata": {},
   "source": [
    "6. How do you tell the difference between the equal to and assignment operators?Describe a\n",
    "condition and when you would use one.\n",
    "\n",
    "Assignment operators are used to assign values to variables:\n",
    "\n",
    "Operator     Example        Same As\n",
    "=             x = 5           x = 5\n",
    "+=            x += 3          x = x + 3\n",
    "-=            x -= 3          x = x - 3\n",
    "*=            x *= 3          x = x * 3\n",
    "\n",
    "x = 5\n",
    "\n",
    "x += 3\n",
    "\n",
    "print(x)"
   ]
  },
  {
   "cell_type": "code",
   "execution_count": 3,
   "id": "1c26cbe8",
   "metadata": {},
   "outputs": [
    {
     "name": "stdout",
     "output_type": "stream",
     "text": [
      "ham\n",
      "spam\n",
      "spam\n"
     ]
    }
   ],
   "source": [
    "# 7. Identify the three blocks in this code:\n",
    "spam = 0\n",
    "if spam == 10:\n",
    "    print('eggs')\n",
    "    if spam>5:\n",
    "        print('bacon')\n",
    "else:\n",
    "    print('ham')\n",
    "    print('spam')\n",
    "    print('spam')\n",
    "\n",
    "\n",
    "# In this blocks there is a if and else conditions are used. if if condition there is a another if block is used: \n"
   ]
  },
  {
   "cell_type": "code",
   "execution_count": 9,
   "id": "6323ab08",
   "metadata": {},
   "outputs": [
    {
     "name": "stdout",
     "output_type": "stream",
     "text": [
      "enter a number5\n",
      "Greetings\n"
     ]
    }
   ],
   "source": [
    "#8. Write code that prints Hello if 1 is stored in spam, prints Howdy if 2 is stored in spam, and prints\n",
    "#Greetings! if anything else is stored in spam.\n",
    "spam=int(input(\"enter a number\"))\n",
    "if spam ==1:\n",
    "    print('Hello')\n",
    "    if spam ==2:\n",
    "        print('Howdy')\n",
    "else:\n",
    "    print('Greetings')"
   ]
  },
  {
   "cell_type": "markdown",
   "id": "d6ceaade",
   "metadata": {},
   "source": [
    "9.If your programme is stuck in an endless loop, what keys you’ll press?\n",
    "\n",
    "Break statement is used for loop will be stoped"
   ]
  },
  {
   "cell_type": "markdown",
   "id": "b391684a",
   "metadata": {},
   "source": [
    "10. How can you tell the difference between break and continue?\n",
    "break statement is used to terminate the execution of the loop. \n",
    "continue statement is used to force the next iteration while skipping the statements in the present iteration."
   ]
  },
  {
   "cell_type": "code",
   "execution_count": 11,
   "id": "4b4e4715",
   "metadata": {},
   "outputs": [
    {
     "name": "stdout",
     "output_type": "stream",
     "text": [
      "0\n",
      "1\n",
      "2\n",
      "3\n",
      "4\n",
      "5\n"
     ]
    }
   ],
   "source": [
    "#11. In a for loop, what is the difference between range(10), range(0, 10), and range(0, 10, 1)?\n",
    "#There is no difference between range (10), range (0,10) and range (0,10,1).\n",
    "#range function in Python takes 3 arguments and they are initial value, final value and increment value.\n",
    "for x in range(6):\n",
    "    print(x)\n",
    "    "
   ]
  },
  {
   "cell_type": "code",
   "execution_count": 12,
   "id": "97f5f057",
   "metadata": {},
   "outputs": [
    {
     "name": "stdout",
     "output_type": "stream",
     "text": [
      "2\n",
      "3\n",
      "4\n",
      "5\n"
     ]
    }
   ],
   "source": [
    "for x in range(2, 6):\n",
    "    print(x) "
   ]
  },
  {
   "cell_type": "code",
   "execution_count": 13,
   "id": "06cc5c91",
   "metadata": {},
   "outputs": [
    {
     "name": "stdout",
     "output_type": "stream",
     "text": [
      "2\n",
      "5\n",
      "8\n",
      "11\n",
      "14\n",
      "17\n",
      "20\n",
      "23\n",
      "26\n",
      "29\n"
     ]
    }
   ],
   "source": [
    "for x in range(2, 30, 3):\n",
    "    print(x) "
   ]
  },
  {
   "cell_type": "code",
   "execution_count": 18,
   "id": "c69e05c8",
   "metadata": {},
   "outputs": [
    {
     "name": "stdout",
     "output_type": "stream",
     "text": [
      "1\n",
      "2\n",
      "3\n",
      "4\n",
      "5\n",
      "6\n",
      "7\n",
      "8\n",
      "9\n"
     ]
    }
   ],
   "source": [
    "#12. Write a short program that prints the numbers 1 to 10 using a for loop. Then write an equivalent\n",
    " #  program that prints the numbers 1 to 10 using a while loop.\n",
    "for x in range(1,10):\n",
    "    print(x)\n",
    "    \n",
    "            \n"
   ]
  },
  {
   "cell_type": "code",
   "execution_count": 19,
   "id": "ab287bbc",
   "metadata": {},
   "outputs": [
    {
     "name": "stdout",
     "output_type": "stream",
     "text": [
      "1\n",
      "2\n",
      "3\n",
      "4\n",
      "5\n",
      "6\n",
      "7\n",
      "8\n",
      "9\n"
     ]
    }
   ],
   "source": [
    "i = 1\n",
    "while i < 10:\n",
    "    print(i)\n",
    "    i +=1    "
   ]
  },
  {
   "cell_type": "code",
   "execution_count": 20,
   "id": "e3a5bab5",
   "metadata": {},
   "outputs": [
    {
     "name": "stdout",
     "output_type": "stream",
     "text": [
      "123hari \n"
     ]
    }
   ],
   "source": [
    "#13. If you had a function named bacon() inside a module named spam, how would you call it after\n",
    "# importing spam?\n",
    "def bacon(spam):\n",
    "    print(spam + \"hari \")\n",
    "\n",
    "bacon(\"123\")"
   ]
  },
  {
   "cell_type": "code",
   "execution_count": null,
   "id": "5a994742",
   "metadata": {},
   "outputs": [],
   "source": []
  }
 ],
 "metadata": {
  "kernelspec": {
   "display_name": "Python 3 (ipykernel)",
   "language": "python",
   "name": "python3"
  },
  "language_info": {
   "codemirror_mode": {
    "name": "ipython",
    "version": 3
   },
   "file_extension": ".py",
   "mimetype": "text/x-python",
   "name": "python",
   "nbconvert_exporter": "python",
   "pygments_lexer": "ipython3",
   "version": "3.9.7"
  }
 },
 "nbformat": 4,
 "nbformat_minor": 5
}
